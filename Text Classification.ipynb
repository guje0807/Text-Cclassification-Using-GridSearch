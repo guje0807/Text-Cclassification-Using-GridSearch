{
 "cells": [
  {
   "cell_type": "code",
   "execution_count": 1,
   "metadata": {},
   "outputs": [
    {
     "data": {
      "text/plain": [
       "(45296, 11)"
      ]
     },
     "execution_count": 1,
     "metadata": {},
     "output_type": "execute_result"
    }
   ],
   "source": [
    "import pandas as pd\n",
    "\n",
    "df = pd.read_csv('eclipse_jdt.csv')\n",
    "df.shape"
   ]
  },
  {
   "cell_type": "code",
   "execution_count": 2,
   "metadata": {},
   "outputs": [],
   "source": [
    "df_sample = df.sample(10000)"
   ]
  },
  {
   "cell_type": "code",
   "execution_count": 3,
   "metadata": {},
   "outputs": [
    {
     "data": {
      "text/plain": [
       "(10000, 11)"
      ]
     },
     "execution_count": 3,
     "metadata": {},
     "output_type": "execute_result"
    }
   ],
   "source": [
    "df_sample.shape"
   ]
  },
  {
   "cell_type": "code",
   "execution_count": 4,
   "metadata": {},
   "outputs": [
    {
     "data": {
      "text/html": [
       "<div>\n",
       "<style scoped>\n",
       "    .dataframe tbody tr th:only-of-type {\n",
       "        vertical-align: middle;\n",
       "    }\n",
       "\n",
       "    .dataframe tbody tr th {\n",
       "        vertical-align: top;\n",
       "    }\n",
       "\n",
       "    .dataframe thead th {\n",
       "        text-align: right;\n",
       "    }\n",
       "</style>\n",
       "<table border=\"1\" class=\"dataframe\">\n",
       "  <thead>\n",
       "    <tr style=\"text-align: right;\">\n",
       "      <th></th>\n",
       "      <th>Issue_id</th>\n",
       "      <th>Priority</th>\n",
       "      <th>Component</th>\n",
       "      <th>Duplicated_issue</th>\n",
       "      <th>Title</th>\n",
       "      <th>Description</th>\n",
       "      <th>Status</th>\n",
       "      <th>Resolution</th>\n",
       "      <th>Version</th>\n",
       "      <th>Created_time</th>\n",
       "      <th>Resolved_time</th>\n",
       "    </tr>\n",
       "  </thead>\n",
       "  <tbody>\n",
       "    <tr>\n",
       "      <th>41404</th>\n",
       "      <td>316782</td>\n",
       "      <td>P3</td>\n",
       "      <td>Core</td>\n",
       "      <td>189459.0</td>\n",
       "      <td>Error referring to @Generated annotation in ja...</td>\n",
       "      <td>We have a project that we compile with Java 1....</td>\n",
       "      <td>VERIFIED</td>\n",
       "      <td>DUPLICATE</td>\n",
       "      <td>3.6</td>\n",
       "      <td>2010-06-14 12:02:00 -0400</td>\n",
       "      <td>2011-03-08 05:37:11 -0500</td>\n",
       "    </tr>\n",
       "    <tr>\n",
       "      <th>14528</th>\n",
       "      <td>41716</td>\n",
       "      <td>P3</td>\n",
       "      <td>Core</td>\n",
       "      <td>NaN</td>\n",
       "      <td>Search-Java-References incorrectly identifies ...</td>\n",
       "      <td>Find a method in your code say HttpSession.set...</td>\n",
       "      <td>RESOLVED</td>\n",
       "      <td>WORKSFORME</td>\n",
       "      <td>3.0</td>\n",
       "      <td>2003-08-19 17:47:00 -0400</td>\n",
       "      <td>2003-08-26 12:40:09 -0400</td>\n",
       "    </tr>\n",
       "    <tr>\n",
       "      <th>31752</th>\n",
       "      <td>139624</td>\n",
       "      <td>P3</td>\n",
       "      <td>Debug</td>\n",
       "      <td>NaN</td>\n",
       "      <td>JDT Debug failed to detect deadlock</td>\n",
       "      <td>Not sure if this is a JVM problem.; ; Running ...</td>\n",
       "      <td>RESOLVED</td>\n",
       "      <td>WONTFIX</td>\n",
       "      <td>3.2</td>\n",
       "      <td>2006-05-01 17:45:00 -0400</td>\n",
       "      <td>2006-07-25 14:33:47 -0400</td>\n",
       "    </tr>\n",
       "    <tr>\n",
       "      <th>4461</th>\n",
       "      <td>11842</td>\n",
       "      <td>P1</td>\n",
       "      <td>UI</td>\n",
       "      <td>NaN</td>\n",
       "      <td>new TestCase not always initialized correctly</td>\n",
       "      <td>It works for CUs but not for classes; Test Cas...</td>\n",
       "      <td>RESOLVED</td>\n",
       "      <td>FIXED</td>\n",
       "      <td>2.0</td>\n",
       "      <td>2002-03-20 09:03:00 -0500</td>\n",
       "      <td>2002-03-25 11:04:12 -0500</td>\n",
       "    </tr>\n",
       "    <tr>\n",
       "      <th>38584</th>\n",
       "      <td>243399</td>\n",
       "      <td>P2</td>\n",
       "      <td>Text</td>\n",
       "      <td>NaN</td>\n",
       "      <td>[breadcrumb] Should not redraw when caret move...</td>\n",
       "      <td>I20080806-1800; ; Even after bug 233510; the b...</td>\n",
       "      <td>VERIFIED</td>\n",
       "      <td>FIXED</td>\n",
       "      <td>3.5</td>\n",
       "      <td>2008-08-07 06:25:00 -0400</td>\n",
       "      <td>2008-08-28 09:08:34 -0400</td>\n",
       "    </tr>\n",
       "  </tbody>\n",
       "</table>\n",
       "</div>"
      ],
      "text/plain": [
       "       Issue_id Priority Component  Duplicated_issue  \\\n",
       "41404    316782       P3      Core          189459.0   \n",
       "14528     41716       P3      Core               NaN   \n",
       "31752    139624       P3     Debug               NaN   \n",
       "4461      11842       P1        UI               NaN   \n",
       "38584    243399       P2      Text               NaN   \n",
       "\n",
       "                                                   Title  \\\n",
       "41404  Error referring to @Generated annotation in ja...   \n",
       "14528  Search-Java-References incorrectly identifies ...   \n",
       "31752                JDT Debug failed to detect deadlock   \n",
       "4461       new TestCase not always initialized correctly   \n",
       "38584  [breadcrumb] Should not redraw when caret move...   \n",
       "\n",
       "                                             Description    Status  \\\n",
       "41404  We have a project that we compile with Java 1....  VERIFIED   \n",
       "14528  Find a method in your code say HttpSession.set...  RESOLVED   \n",
       "31752  Not sure if this is a JVM problem.; ; Running ...  RESOLVED   \n",
       "4461   It works for CUs but not for classes; Test Cas...  RESOLVED   \n",
       "38584  I20080806-1800; ; Even after bug 233510; the b...  VERIFIED   \n",
       "\n",
       "       Resolution Version               Created_time  \\\n",
       "41404   DUPLICATE     3.6  2010-06-14 12:02:00 -0400   \n",
       "14528  WORKSFORME     3.0  2003-08-19 17:47:00 -0400   \n",
       "31752     WONTFIX     3.2  2006-05-01 17:45:00 -0400   \n",
       "4461        FIXED     2.0  2002-03-20 09:03:00 -0500   \n",
       "38584       FIXED     3.5  2008-08-07 06:25:00 -0400   \n",
       "\n",
       "                   Resolved_time  \n",
       "41404  2011-03-08 05:37:11 -0500  \n",
       "14528  2003-08-26 12:40:09 -0400  \n",
       "31752  2006-07-25 14:33:47 -0400  \n",
       "4461   2002-03-25 11:04:12 -0500  \n",
       "38584  2008-08-28 09:08:34 -0400  "
      ]
     },
     "execution_count": 4,
     "metadata": {},
     "output_type": "execute_result"
    }
   ],
   "source": [
    "df_sample.head()"
   ]
  },
  {
   "cell_type": "code",
   "execution_count": 5,
   "metadata": {},
   "outputs": [
    {
     "data": {
      "text/plain": [
       "Issue_id               0\n",
       "Priority               0\n",
       "Component              0\n",
       "Duplicated_issue    8327\n",
       "Title                  0\n",
       "Description            9\n",
       "Status                 0\n",
       "Resolution             0\n",
       "Version                0\n",
       "Created_time           0\n",
       "Resolved_time          0\n",
       "dtype: int64"
      ]
     },
     "execution_count": 5,
     "metadata": {},
     "output_type": "execute_result"
    }
   ],
   "source": [
    "df_sample.isnull().sum()"
   ]
  },
  {
   "cell_type": "code",
   "execution_count": 6,
   "metadata": {},
   "outputs": [],
   "source": [
    "df_sample.drop(['Duplicated_issue'] ,axis = 1,inplace=True)"
   ]
  },
  {
   "cell_type": "code",
   "execution_count": 7,
   "metadata": {},
   "outputs": [
    {
     "data": {
      "text/plain": [
       "Issue_id         0\n",
       "Priority         0\n",
       "Component        0\n",
       "Title            0\n",
       "Description      9\n",
       "Status           0\n",
       "Resolution       0\n",
       "Version          0\n",
       "Created_time     0\n",
       "Resolved_time    0\n",
       "dtype: int64"
      ]
     },
     "execution_count": 7,
     "metadata": {},
     "output_type": "execute_result"
    }
   ],
   "source": [
    "df_sample.isnull().sum()"
   ]
  },
  {
   "cell_type": "code",
   "execution_count": 8,
   "metadata": {},
   "outputs": [],
   "source": [
    "df_sample = df_sample.dropna()"
   ]
  },
  {
   "cell_type": "code",
   "execution_count": 9,
   "metadata": {},
   "outputs": [
    {
     "data": {
      "text/plain": [
       "(9991, 10)"
      ]
     },
     "execution_count": 9,
     "metadata": {},
     "output_type": "execute_result"
    }
   ],
   "source": [
    "df_sample.shape"
   ]
  },
  {
   "cell_type": "code",
   "execution_count": 10,
   "metadata": {},
   "outputs": [
    {
     "data": {
      "text/plain": [
       "<matplotlib.axes._subplots.AxesSubplot at 0x20212703c10>"
      ]
     },
     "execution_count": 10,
     "metadata": {},
     "output_type": "execute_result"
    },
    {
     "data": {
      "image/png": "[encoded data removed]",
      "text/plain": [
       "<Figure size 432x288 with 1 Axes>"
      ]
     },
     "metadata": {
      "needs_background": "light"
     },
     "output_type": "display_data"
    }
   ],
   "source": [
    "df_sample['Priority'].value_counts().sort_index().plot(kind='bar')"
   ]
  },
  {
   "cell_type": "code",
   "execution_count": 11,
   "metadata": {},
   "outputs": [
    {
     "data": {
      "text/plain": [
       "Index(['Issue_id', 'Priority', 'Component', 'Title', 'Description', 'Status',\n",
       "       'Resolution', 'Version', 'Created_time', 'Resolved_time'],\n",
       "      dtype='object')"
      ]
     },
     "execution_count": 11,
     "metadata": {},
     "output_type": "execute_result"
    }
   ],
   "source": [
    "df_sample.columns"
   ]
  },
  {
   "cell_type": "code",
   "execution_count": 12,
   "metadata": {},
   "outputs": [],
   "source": [
    "df_sample = df_sample[['Title','Description','Priority']]"
   ]
  },
  {
   "cell_type": "code",
   "execution_count": 13,
   "metadata": {},
   "outputs": [],
   "source": [
    "df_sample['Text'] = df_sample['Title'] + ' ' + df_sample['Description']"
   ]
  },
  {
   "cell_type": "code",
   "execution_count": 14,
   "metadata": {},
   "outputs": [],
   "source": [
    "df_main = df_sample.drop(['Title','Description'],axis = 1)"
   ]
  },
  {
   "cell_type": "code",
   "execution_count": 15,
   "metadata": {},
   "outputs": [
    {
     "data": {
      "text/html": [
       "<div>\n",
       "<style scoped>\n",
       "    .dataframe tbody tr th:only-of-type {\n",
       "        vertical-align: middle;\n",
       "    }\n",
       "\n",
       "    .dataframe tbody tr th {\n",
       "        vertical-align: top;\n",
       "    }\n",
       "\n",
       "    .dataframe thead th {\n",
       "        text-align: right;\n",
       "    }\n",
       "</style>\n",
       "<table border=\"1\" class=\"dataframe\">\n",
       "  <thead>\n",
       "    <tr style=\"text-align: right;\">\n",
       "      <th></th>\n",
       "      <th>Priority</th>\n",
       "      <th>Text</th>\n",
       "    </tr>\n",
       "  </thead>\n",
       "  <tbody>\n",
       "    <tr>\n",
       "      <th>41404</th>\n",
       "      <td>P3</td>\n",
       "      <td>Error referring to @Generated annotation in ja...</td>\n",
       "    </tr>\n",
       "    <tr>\n",
       "      <th>14528</th>\n",
       "      <td>P3</td>\n",
       "      <td>Search-Java-References incorrectly identifies ...</td>\n",
       "    </tr>\n",
       "    <tr>\n",
       "      <th>31752</th>\n",
       "      <td>P3</td>\n",
       "      <td>JDT Debug failed to detect deadlock Not sure i...</td>\n",
       "    </tr>\n",
       "    <tr>\n",
       "      <th>4461</th>\n",
       "      <td>P1</td>\n",
       "      <td>new TestCase not always initialized correctly ...</td>\n",
       "    </tr>\n",
       "    <tr>\n",
       "      <th>38584</th>\n",
       "      <td>P2</td>\n",
       "      <td>[breadcrumb] Should not redraw when caret move...</td>\n",
       "    </tr>\n",
       "  </tbody>\n",
       "</table>\n",
       "</div>"
      ],
      "text/plain": [
       "      Priority                                               Text\n",
       "41404       P3  Error referring to @Generated annotation in ja...\n",
       "14528       P3  Search-Java-References incorrectly identifies ...\n",
       "31752       P3  JDT Debug failed to detect deadlock Not sure i...\n",
       "4461        P1  new TestCase not always initialized correctly ...\n",
       "38584       P2  [breadcrumb] Should not redraw when caret move..."
      ]
     },
     "execution_count": 15,
     "metadata": {},
     "output_type": "execute_result"
    }
   ],
   "source": [
    "df_main.head()"
   ]
  },
  {
   "cell_type": "code",
   "execution_count": 16,
   "metadata": {},
   "outputs": [
    {
     "data": {
      "text/plain": [
       "(9991, 2)"
      ]
     },
     "execution_count": 16,
     "metadata": {},
     "output_type": "execute_result"
    }
   ],
   "source": [
    "df_main.shape"
   ]
  },
  {
   "cell_type": "code",
   "execution_count": 17,
   "metadata": {},
   "outputs": [],
   "source": [
    "import re,html\n",
    "def clean(text):\n",
    "    #Convert html escapes like &amp; to charecters\n",
    "    text = html.unescape(text)\n",
    "    #tags like <tag>\n",
    "    text = re.sub(r'<[^<>]*>', ' ',text)\n",
    "    #Markdown Urls\n",
    "    text = re.sub(r'\\[([^\\[\\]]*)\\]\\([^\\(\\)]*\\)',r'\\1',str(text))\n",
    "    #text or code in brackets\n",
    "    text = re.sub(r'\\[[^\\[\\]]*\\]',' ',text)\n",
    "    #Standalone sequences for specials\n",
    "    text = re.sub(r'(?:^|\\s)[&#<>{}\\[\\]+|\\\\:-]{1,}(?:\\s|$)', ' ',text)\n",
    "    #stand alone sequence of hyphens \n",
    "    text= re.sub(r'(?:^|\\s)[\\-=\\+]{2,}(?:\\s|$)', ' ',text)\n",
    "    # Sequence of white spaces\n",
    "    text = re.sub(r'\\s+',' ',text)\n",
    "    return text.strip()"
   ]
  },
  {
   "cell_type": "code",
   "execution_count": 18,
   "metadata": {},
   "outputs": [],
   "source": [
    "df_main['Text'] = df_main['Text'].apply(clean)"
   ]
  },
  {
   "cell_type": "code",
   "execution_count": 19,
   "metadata": {},
   "outputs": [],
   "source": [
    "df_main = df_main[df_main['Text'].str.len() > 50]"
   ]
  },
  {
   "cell_type": "code",
   "execution_count": 20,
   "metadata": {},
   "outputs": [
    {
     "name": "stderr",
     "output_type": "stream",
     "text": [
      "<ipython-input-20-bd8f39168b77>:4: FutureWarning: Passing a negative integer is deprecated in version 1.0 and will not be supported in future version. Instead, use None to not limit the column width.\n",
      "  pd.set_option('display.max_colwidth', -1)\n"
     ]
    },
    {
     "data": {
      "text/html": [
       "<div>\n",
       "<style scoped>\n",
       "    .dataframe tbody tr th:only-of-type {\n",
       "        vertical-align: middle;\n",
       "    }\n",
       "\n",
       "    .dataframe tbody tr th {\n",
       "        vertical-align: top;\n",
       "    }\n",
       "\n",
       "    .dataframe thead th {\n",
       "        text-align: right;\n",
       "    }\n",
       "</style>\n",
       "<table border=\"1\" class=\"dataframe\">\n",
       "  <thead>\n",
       "    <tr style=\"text-align: right;\">\n",
       "      <th></th>\n",
       "      <th>Priority</th>\n",
       "      <th>Text</th>\n",
       "    </tr>\n",
       "  </thead>\n",
       "  <tbody>\n",
       "    <tr>\n",
       "      <th>6732</th>\n",
       "      <td>P2</td>\n",
       "      <td>Want to turn off Javadoc help but keep error help I usually turn off text hover help because the javadoc help gets annoying after ; awhile; always jumping in the way when you are trying to read code.; ; However; this also turns off the very useful error description hover help on ; text with errors. While you can get the error text easely enough from the ; error marker in the left column; it would be nice if you still got it from the ; red underlined text.; ; I wonder that when people turn off text hover help; if its really just because ; of the javadoc help. ; ; If there already is a way of doing this sorry for the bug report; I didnt see ; it.</td>\n",
       "    </tr>\n",
       "    <tr>\n",
       "      <th>6090</th>\n",
       "      <td>P3</td>\n",
       "      <td>ArrayIndexOutOfBoundsException during compilation Build 20020412; ; while compiling a project the following error occurs (at the aprox. 700 file to ; compile). Deleting the .java file doesn t help; the error occurs at the ; next .java file.; ; Rainer; ; Kind Status Priority Description Resource In Folder; Location; Error Internal compiler error; java.lang.ArrayIndexOutOfBoundsException; at ; org.eclipse.jdt.internal.compiler.parser.Parser.consumeClassHeaderImplements; (Parser.java:1470); at ; org.eclipse.jdt.internal.compiler.parser.RecoveredType.updateFromParserState; (RecoveredType.java:406); at org.eclipse.jdt.internal.compiler.parser.Parser.updateRecoveryState; (Parser.java:7424); at org.eclipse.jdt.internal.compiler.parser.Parser.resumeOnSyntaxError; (Parser.java:7371); at org.eclipse.jdt.internal.compiler.parser.Parser.parse; (Parser.java:6764); at org.eclipse.jdt.internal.compiler.parser.Parser.parse; (Parser.java:6988); at org.eclipse.jdt.internal.compiler.parser.Parser.dietParse; (Parser.java:4656); at org.eclipse.jdt.internal.compiler.Compiler.beginToCompile; (Compiler.java:282); at org.eclipse.jdt.internal.compiler.Compiler.compile(Compiler.java:317); at org.eclipse.jdt.internal.core.builder.AbstractImageBuilder.compile; (AbstractImageBuilder.java:210); at org.eclipse.jdt.internal.core.builder.AbstractImageBuilder.compile; (AbstractImageBuilder.java:186); at org.eclipse.jdt.internal.core.builder.BatchImageBuilder.build; (BatchImageBuilder.java:46); at org.eclipse.jdt.internal.core.builder.JavaBuilder.buildAll; (JavaBuilder.java:149); at org.eclipse.jdt.internal.core.builder.JavaBuilder.build; (JavaBuilder.java:95); at org.eclipse.core.internal.events.BuildManager$2.run; (BuildManager.java:383); at org.eclipse.core.internal.runtime.InternalPlatform.run; (InternalPlatform.java:838); at org.eclipse.core.runtime.Platform.run(Platform.java:411); at org.eclipse.core.internal.events.BuildManager.basicBuild; (BuildManager.java:119); at org.eclipse.core.internal.events.BuildManager.basicBuild; (BuildManager.java:173); at org.eclipse.core.internal.events.BuildManager.basicBuild; (BuildManager.java:183); at org.eclipse.core.internal.events.BuildManager$1.run; (BuildManager.java:143); at org.eclipse.core.internal.runtime.InternalPlatform.run; (InternalPlatform.java:838); at org.eclipse.core.runtime.Platform.run(Platform.java:411); at org.eclipse.core.internal.events.BuildManager.basicBuild; (BuildManager.java:157); at org.eclipse.core.internal.events.BuildManager.build; (BuildManager.java:211); at org.eclipse.core.internal.resources.Workspace.endOperation; (Workspace.java:743); at org.eclipse.core.internal.resources.Workspace.run; (Workspace.java:1348); at org.eclipse.ui.actions.WorkspaceModifyOperation.run; (WorkspaceModifyOperation.java:78); at ; org.eclipse.jdt.internal.ui.refactoring.PerformChangeOperation.executeChange; (PerformChangeOperation.java:143); at org.eclipse.jdt.internal.ui.refactoring.PerformChangeOperation.run; (PerformChangeOperation.java:125); at org.eclipse.jface.operation.ModalContext.runInCurrentThread; (ModalContext.java:296); at org.eclipse.jface.operation.ModalContext.run(ModalContext.java:249); at org.eclipse.jface.dialogs.ProgressMonitorDialog.run; (ProgressMonitorDialog.java:335); at org.eclipse.jdt.internal.ui.reorg.ReorgAction.perform; (ReorgAction.java:81); at org.eclipse.jdt.internal.ui.reorg.DeleteResourcesAction.run; (DeleteResourcesAction.java:55); at org.eclipse.jdt.internal.ui.reorg.DualReorgAction.run; (DualReorgAction.java:51); at org.eclipse.jface.action.Action.runWithEvent(Action.java:590); at org.eclipse.jface.action.ActionContributionItem.handleWidgetSelection; (ActionContributionItem.java:407); at org.eclipse.jface.action.ActionContributionItem.handleWidgetEvent; (ActionContributionItem.java:361); at org.eclipse.jface.action.ActionContributionItem.access$0; (ActionContributionItem.java:352); at ; org.eclipse.jface.action.ActionContributionItem$ActionListener.handleEvent; (ActionContributionItem.java:47); at org.eclipse.swt.widgets.EventTable.sendEvent(EventTable.java:75); at org.eclipse.swt.widgets.Widget.notifyListeners(Widget.java:637); at org.eclipse.swt.widgets.Display.runDeferredEvents(Display.java:1412); at org.eclipse.swt.widgets.Display.readAndDispatch(Display.java:1208); at org.eclipse.ui.internal.Workbench.runEventLoop(Workbench.java:836); at org.eclipse.ui.internal.Workbench.run(Workbench.java:819); at org.eclipse.core.internal.boot.InternalBootLoader.run; (InternalBootLoader.java:777); at org.eclipse.core.boot.BootLoader.run(BootLoader.java:319); at java.lang.reflect.Method.invoke(Native Method); at org.eclipse.core.launcher.Main.basicRun(Main.java:190); at org.eclipse.core.launcher.Main.run(Main.java:549); at org.eclipse.core.launcher.Main.main(Main.java:390); OUTField.java xmlProject/at/igs/anm/fields line 0 in OUTField.java</td>\n",
       "    </tr>\n",
       "  </tbody>\n",
       "</table>\n",
       "</div>"
      ],
      "text/plain": [
       "     Priority  \\\n",
       "6732  P2        \n",
       "6090  P3        \n",
       "\n",
       "                                                                                                                                                                                                                                                                                                                                                                                                                                                                                                                                                                                                                                                                                                                                                                                                                                                                                                                                                                                                                                                                                                                                                                                                                                                                                                                                                                                                                                                                                                                                                                                                                                                                                                                                                                                                                                                                                                                                                                                                                                                                                                                                                                                                                                                                                                                                                                                                                                                                                                                                                                                                                                                                                                                                                                                                                                                                                                                                                                                                                                                                                                                                                                                                                                                                                                                                                                                                                                                                                                                                                                                                                                                                                                                                                                                                                                                                                                                                                                                                                                                                                                                                                                                                                                                                                                                                                                                                                                                                                                                                                                                                                                                                                                                                                                                                                                                                                                                                                                                                                                                                          Text  \n",
       "6732  Want to turn off Javadoc help but keep error help I usually turn off text hover help because the javadoc help gets annoying after ; awhile; always jumping in the way when you are trying to read code.; ; However; this also turns off the very useful error description hover help on ; text with errors. While you can get the error text easely enough from the ; error marker in the left column; it would be nice if you still got it from the ; red underlined text.; ; I wonder that when people turn off text hover help; if its really just because ; of the javadoc help. ; ; If there already is a way of doing this sorry for the bug report; I didnt see ; it.                                                                                                                                                                                                                                                                                                                                                                                                                                                                                                                                                                                                                                                                                                                                                                                                                                                                                                                                                                                                                                                                                                                                                                                                                                                                                                                                                                                                                                                                                                                                                                                                                                                                                                                                                                                                                                                                                                                                                                                                                                                                                                                                                                                                                                                                                                                                                                                                                                                                                                                                                                                                                                                                                                                                                                                                                                                                                                                                                                                                                                                                                                                                                                                                                                                                                                                                                                                                                                                                                                                                                                                                                                                                                                                                                                                                                                                                                                                                                                                                                                                                                                                                                                                                                                                                                                                                                                                              \n",
       "6090  ArrayIndexOutOfBoundsException during compilation Build 20020412; ; while compiling a project the following error occurs (at the aprox. 700 file to ; compile). Deleting the .java file doesn t help; the error occurs at the ; next .java file.; ; Rainer; ; Kind Status Priority Description Resource In Folder; Location; Error Internal compiler error; java.lang.ArrayIndexOutOfBoundsException; at ; org.eclipse.jdt.internal.compiler.parser.Parser.consumeClassHeaderImplements; (Parser.java:1470); at ; org.eclipse.jdt.internal.compiler.parser.RecoveredType.updateFromParserState; (RecoveredType.java:406); at org.eclipse.jdt.internal.compiler.parser.Parser.updateRecoveryState; (Parser.java:7424); at org.eclipse.jdt.internal.compiler.parser.Parser.resumeOnSyntaxError; (Parser.java:7371); at org.eclipse.jdt.internal.compiler.parser.Parser.parse; (Parser.java:6764); at org.eclipse.jdt.internal.compiler.parser.Parser.parse; (Parser.java:6988); at org.eclipse.jdt.internal.compiler.parser.Parser.dietParse; (Parser.java:4656); at org.eclipse.jdt.internal.compiler.Compiler.beginToCompile; (Compiler.java:282); at org.eclipse.jdt.internal.compiler.Compiler.compile(Compiler.java:317); at org.eclipse.jdt.internal.core.builder.AbstractImageBuilder.compile; (AbstractImageBuilder.java:210); at org.eclipse.jdt.internal.core.builder.AbstractImageBuilder.compile; (AbstractImageBuilder.java:186); at org.eclipse.jdt.internal.core.builder.BatchImageBuilder.build; (BatchImageBuilder.java:46); at org.eclipse.jdt.internal.core.builder.JavaBuilder.buildAll; (JavaBuilder.java:149); at org.eclipse.jdt.internal.core.builder.JavaBuilder.build; (JavaBuilder.java:95); at org.eclipse.core.internal.events.BuildManager$2.run; (BuildManager.java:383); at org.eclipse.core.internal.runtime.InternalPlatform.run; (InternalPlatform.java:838); at org.eclipse.core.runtime.Platform.run(Platform.java:411); at org.eclipse.core.internal.events.BuildManager.basicBuild; (BuildManager.java:119); at org.eclipse.core.internal.events.BuildManager.basicBuild; (BuildManager.java:173); at org.eclipse.core.internal.events.BuildManager.basicBuild; (BuildManager.java:183); at org.eclipse.core.internal.events.BuildManager$1.run; (BuildManager.java:143); at org.eclipse.core.internal.runtime.InternalPlatform.run; (InternalPlatform.java:838); at org.eclipse.core.runtime.Platform.run(Platform.java:411); at org.eclipse.core.internal.events.BuildManager.basicBuild; (BuildManager.java:157); at org.eclipse.core.internal.events.BuildManager.build; (BuildManager.java:211); at org.eclipse.core.internal.resources.Workspace.endOperation; (Workspace.java:743); at org.eclipse.core.internal.resources.Workspace.run; (Workspace.java:1348); at org.eclipse.ui.actions.WorkspaceModifyOperation.run; (WorkspaceModifyOperation.java:78); at ; org.eclipse.jdt.internal.ui.refactoring.PerformChangeOperation.executeChange; (PerformChangeOperation.java:143); at org.eclipse.jdt.internal.ui.refactoring.PerformChangeOperation.run; (PerformChangeOperation.java:125); at org.eclipse.jface.operation.ModalContext.runInCurrentThread; (ModalContext.java:296); at org.eclipse.jface.operation.ModalContext.run(ModalContext.java:249); at org.eclipse.jface.dialogs.ProgressMonitorDialog.run; (ProgressMonitorDialog.java:335); at org.eclipse.jdt.internal.ui.reorg.ReorgAction.perform; (ReorgAction.java:81); at org.eclipse.jdt.internal.ui.reorg.DeleteResourcesAction.run; (DeleteResourcesAction.java:55); at org.eclipse.jdt.internal.ui.reorg.DualReorgAction.run; (DualReorgAction.java:51); at org.eclipse.jface.action.Action.runWithEvent(Action.java:590); at org.eclipse.jface.action.ActionContributionItem.handleWidgetSelection; (ActionContributionItem.java:407); at org.eclipse.jface.action.ActionContributionItem.handleWidgetEvent; (ActionContributionItem.java:361); at org.eclipse.jface.action.ActionContributionItem.access$0; (ActionContributionItem.java:352); at ; org.eclipse.jface.action.ActionContributionItem$ActionListener.handleEvent; (ActionContributionItem.java:47); at org.eclipse.swt.widgets.EventTable.sendEvent(EventTable.java:75); at org.eclipse.swt.widgets.Widget.notifyListeners(Widget.java:637); at org.eclipse.swt.widgets.Display.runDeferredEvents(Display.java:1412); at org.eclipse.swt.widgets.Display.readAndDispatch(Display.java:1208); at org.eclipse.ui.internal.Workbench.runEventLoop(Workbench.java:836); at org.eclipse.ui.internal.Workbench.run(Workbench.java:819); at org.eclipse.core.internal.boot.InternalBootLoader.run; (InternalBootLoader.java:777); at org.eclipse.core.boot.BootLoader.run(BootLoader.java:319); at java.lang.reflect.Method.invoke(Native Method); at org.eclipse.core.launcher.Main.basicRun(Main.java:190); at org.eclipse.core.launcher.Main.run(Main.java:549); at org.eclipse.core.launcher.Main.main(Main.java:390); OUTField.java xmlProject/at/igs/anm/fields line 0 in OUTField.java  "
      ]
     },
     "execution_count": 20,
     "metadata": {},
     "output_type": "execute_result"
    }
   ],
   "source": [
    "pd.set_option('display.max_rows', None)\n",
    "pd.set_option('display.max_columns', None)\n",
    "pd.set_option('display.width', None)\n",
    "pd.set_option('display.max_colwidth', -1)\n",
    "df_main.sample(2)"
   ]
  },
  {
   "cell_type": "code",
   "execution_count": 21,
   "metadata": {},
   "outputs": [
    {
     "data": {
      "text/plain": [
       "(9949, 2)"
      ]
     },
     "execution_count": 21,
     "metadata": {},
     "output_type": "execute_result"
    }
   ],
   "source": [
    "df_main.shape"
   ]
  },
  {
   "cell_type": "code",
   "execution_count": 22,
   "metadata": {},
   "outputs": [],
   "source": [
    "from sklearn.model_selection import train_test_split\n",
    "\n",
    "X_train,X_test,Y_train,Y_test = train_test_split(df_main['Text'],df_main['Priority'],test_size=0.2,\n",
    "                                                random_state=42,stratify=df_main['Priority'])"
   ]
  },
  {
   "cell_type": "code",
   "execution_count": 23,
   "metadata": {},
   "outputs": [
    {
     "name": "stdout",
     "output_type": "stream",
     "text": [
      "(7959,)\n",
      "(1990,)\n",
      "(7959,)\n",
      "(1990,)\n"
     ]
    }
   ],
   "source": [
    "print(X_train.shape)\n",
    "print(X_test.shape)\n",
    "print(Y_train.shape)\n",
    "print(Y_test.shape)"
   ]
  },
  {
   "cell_type": "code",
   "execution_count": 24,
   "metadata": {},
   "outputs": [],
   "source": [
    "from sklearn.feature_extraction.text import TfidfVectorizer\n",
    "\n",
    "tfidf = TfidfVectorizer(min_df = 10, ngram_range=(1,2), stop_words='english')\n",
    "X_train_tf = tfidf.fit_transform(X_train)"
   ]
  },
  {
   "cell_type": "code",
   "execution_count": 25,
   "metadata": {},
   "outputs": [
    {
     "data": {
      "text/html": [
       "<style>#sk-container-id-1 {color: black;background-color: white;}#sk-container-id-1 pre{padding: 0;}#sk-container-id-1 div.sk-toggleable {background-color: white;}#sk-container-id-1 label.sk-toggleable__label {cursor: pointer;display: block;width: 100%;margin-bottom: 0;padding: 0.3em;box-sizing: border-box;text-align: center;}#sk-container-id-1 label.sk-toggleable__label-arrow:before {content: \"▸\";float: left;margin-right: 0.25em;color: #696969;}#sk-container-id-1 label.sk-toggleable__label-arrow:hover:before {color: black;}#sk-container-id-1 div.sk-estimator:hover label.sk-toggleable__label-arrow:before {color: black;}#sk-container-id-1 div.sk-toggleable__content {max-height: 0;max-width: 0;overflow: hidden;text-align: left;background-color: #f0f8ff;}#sk-container-id-1 div.sk-toggleable__content pre {margin: 0.2em;color: black;border-radius: 0.25em;background-color: #f0f8ff;}#sk-container-id-1 input.sk-toggleable__control:checked~div.sk-toggleable__content {max-height: 200px;max-width: 100%;overflow: auto;}#sk-container-id-1 input.sk-toggleable__control:checked~label.sk-toggleable__label-arrow:before {content: \"▾\";}#sk-container-id-1 div.sk-estimator input.sk-toggleable__control:checked~label.sk-toggleable__label {background-color: #d4ebff;}#sk-container-id-1 div.sk-label input.sk-toggleable__control:checked~label.sk-toggleable__label {background-color: #d4ebff;}#sk-container-id-1 input.sk-hidden--visually {border: 0;clip: rect(1px 1px 1px 1px);clip: rect(1px, 1px, 1px, 1px);height: 1px;margin: -1px;overflow: hidden;padding: 0;position: absolute;width: 1px;}#sk-container-id-1 div.sk-estimator {font-family: monospace;background-color: #f0f8ff;border: 1px dotted black;border-radius: 0.25em;box-sizing: border-box;margin-bottom: 0.5em;}#sk-container-id-1 div.sk-estimator:hover {background-color: #d4ebff;}#sk-container-id-1 div.sk-parallel-item::after {content: \"\";width: 100%;border-bottom: 1px solid gray;flex-grow: 1;}#sk-container-id-1 div.sk-label:hover label.sk-toggleable__label {background-color: #d4ebff;}#sk-container-id-1 div.sk-serial::before {content: \"\";position: absolute;border-left: 1px solid gray;box-sizing: border-box;top: 0;bottom: 0;left: 50%;z-index: 0;}#sk-container-id-1 div.sk-serial {display: flex;flex-direction: column;align-items: center;background-color: white;padding-right: 0.2em;padding-left: 0.2em;position: relative;}#sk-container-id-1 div.sk-item {position: relative;z-index: 1;}#sk-container-id-1 div.sk-parallel {display: flex;align-items: stretch;justify-content: center;background-color: white;position: relative;}#sk-container-id-1 div.sk-item::before, #sk-container-id-1 div.sk-parallel-item::before {content: \"\";position: absolute;border-left: 1px solid gray;box-sizing: border-box;top: 0;bottom: 0;left: 50%;z-index: -1;}#sk-container-id-1 div.sk-parallel-item {display: flex;flex-direction: column;z-index: 1;position: relative;background-color: white;}#sk-container-id-1 div.sk-parallel-item:first-child::after {align-self: flex-end;width: 50%;}#sk-container-id-1 div.sk-parallel-item:last-child::after {align-self: flex-start;width: 50%;}#sk-container-id-1 div.sk-parallel-item:only-child::after {width: 0;}#sk-container-id-1 div.sk-dashed-wrapped {border: 1px dashed gray;margin: 0 0.4em 0.5em 0.4em;box-sizing: border-box;padding-bottom: 0.4em;background-color: white;}#sk-container-id-1 div.sk-label label {font-family: monospace;font-weight: bold;display: inline-block;line-height: 1.2em;}#sk-container-id-1 div.sk-label-container {text-align: center;}#sk-container-id-1 div.sk-container {/* jupyter's `normalize.less` sets `[hidden] { display: none; }` but bootstrap.min.css set `[hidden] { display: none !important; }` so we also need the `!important` here to be able to override the default hidden behavior on the sphinx rendered scikit-learn.org. See: https://github.com/scikit-learn/scikit-learn/issues/21755 */display: inline-block !important;position: relative;}#sk-container-id-1 div.sk-text-repr-fallback {display: none;}</style><div id=\"sk-container-id-1\" class=\"sk-top-container\"><div class=\"sk-text-repr-fallback\"><pre>LinearSVC(random_state=0, tol=1e-05)</pre><b>In a Jupyter environment, please rerun this cell to show the HTML representation or trust the notebook. <br />On GitHub, the HTML representation is unable to render, please try loading this page with nbviewer.org.</b></div><div class=\"sk-container\" hidden><div class=\"sk-item\"><div class=\"sk-estimator sk-toggleable\"><input class=\"sk-toggleable__control sk-hidden--visually\" id=\"sk-estimator-id-1\" type=\"checkbox\" checked><label for=\"sk-estimator-id-1\" class=\"sk-toggleable__label sk-toggleable__label-arrow\">LinearSVC</label><div class=\"sk-toggleable__content\"><pre>LinearSVC(random_state=0, tol=1e-05)</pre></div></div></div></div></div>"
      ],
      "text/plain": [
       "LinearSVC(random_state=0, tol=1e-05)"
      ]
     },
     "execution_count": 25,
     "metadata": {},
     "output_type": "execute_result"
    }
   ],
   "source": [
    "from sklearn.svm import LinearSVC\n",
    "\n",
    "model1 = LinearSVC(random_state=0,tol=1e-5)\n",
    "model1.fit(X_train_tf, Y_train)"
   ]
  },
  {
   "cell_type": "code",
   "execution_count": 26,
   "metadata": {},
   "outputs": [],
   "source": [
    "X_test_tf = tfidf.transform(X_test)"
   ]
  },
  {
   "cell_type": "code",
   "execution_count": 27,
   "metadata": {},
   "outputs": [
    {
     "name": "stdout",
     "output_type": "stream",
     "text": [
      "Accuracy: 0.878391959798995\n"
     ]
    }
   ],
   "source": [
    "from sklearn.metrics import accuracy_score\n",
    "Y_pred = model1.predict(X_test_tf)\n",
    "print('Accuracy:', accuracy_score(Y_test,Y_pred))"
   ]
  },
  {
   "cell_type": "code",
   "execution_count": 28,
   "metadata": {},
   "outputs": [
    {
     "data": {
      "text/html": [
       "<style>#sk-container-id-2 {color: black;background-color: white;}#sk-container-id-2 pre{padding: 0;}#sk-container-id-2 div.sk-toggleable {background-color: white;}#sk-container-id-2 label.sk-toggleable__label {cursor: pointer;display: block;width: 100%;margin-bottom: 0;padding: 0.3em;box-sizing: border-box;text-align: center;}#sk-container-id-2 label.sk-toggleable__label-arrow:before {content: \"▸\";float: left;margin-right: 0.25em;color: #696969;}#sk-container-id-2 label.sk-toggleable__label-arrow:hover:before {color: black;}#sk-container-id-2 div.sk-estimator:hover label.sk-toggleable__label-arrow:before {color: black;}#sk-container-id-2 div.sk-toggleable__content {max-height: 0;max-width: 0;overflow: hidden;text-align: left;background-color: #f0f8ff;}#sk-container-id-2 div.sk-toggleable__content pre {margin: 0.2em;color: black;border-radius: 0.25em;background-color: #f0f8ff;}#sk-container-id-2 input.sk-toggleable__control:checked~div.sk-toggleable__content {max-height: 200px;max-width: 100%;overflow: auto;}#sk-container-id-2 input.sk-toggleable__control:checked~label.sk-toggleable__label-arrow:before {content: \"▾\";}#sk-container-id-2 div.sk-estimator input.sk-toggleable__control:checked~label.sk-toggleable__label {background-color: #d4ebff;}#sk-container-id-2 div.sk-label input.sk-toggleable__control:checked~label.sk-toggleable__label {background-color: #d4ebff;}#sk-container-id-2 input.sk-hidden--visually {border: 0;clip: rect(1px 1px 1px 1px);clip: rect(1px, 1px, 1px, 1px);height: 1px;margin: -1px;overflow: hidden;padding: 0;position: absolute;width: 1px;}#sk-container-id-2 div.sk-estimator {font-family: monospace;background-color: #f0f8ff;border: 1px dotted black;border-radius: 0.25em;box-sizing: border-box;margin-bottom: 0.5em;}#sk-container-id-2 div.sk-estimator:hover {background-color: #d4ebff;}#sk-container-id-2 div.sk-parallel-item::after {content: \"\";width: 100%;border-bottom: 1px solid gray;flex-grow: 1;}#sk-container-id-2 div.sk-label:hover label.sk-toggleable__label {background-color: #d4ebff;}#sk-container-id-2 div.sk-serial::before {content: \"\";position: absolute;border-left: 1px solid gray;box-sizing: border-box;top: 0;bottom: 0;left: 50%;z-index: 0;}#sk-container-id-2 div.sk-serial {display: flex;flex-direction: column;align-items: center;background-color: white;padding-right: 0.2em;padding-left: 0.2em;position: relative;}#sk-container-id-2 div.sk-item {position: relative;z-index: 1;}#sk-container-id-2 div.sk-parallel {display: flex;align-items: stretch;justify-content: center;background-color: white;position: relative;}#sk-container-id-2 div.sk-item::before, #sk-container-id-2 div.sk-parallel-item::before {content: \"\";position: absolute;border-left: 1px solid gray;box-sizing: border-box;top: 0;bottom: 0;left: 50%;z-index: -1;}#sk-container-id-2 div.sk-parallel-item {display: flex;flex-direction: column;z-index: 1;position: relative;background-color: white;}#sk-container-id-2 div.sk-parallel-item:first-child::after {align-self: flex-end;width: 50%;}#sk-container-id-2 div.sk-parallel-item:last-child::after {align-self: flex-start;width: 50%;}#sk-container-id-2 div.sk-parallel-item:only-child::after {width: 0;}#sk-container-id-2 div.sk-dashed-wrapped {border: 1px dashed gray;margin: 0 0.4em 0.5em 0.4em;box-sizing: border-box;padding-bottom: 0.4em;background-color: white;}#sk-container-id-2 div.sk-label label {font-family: monospace;font-weight: bold;display: inline-block;line-height: 1.2em;}#sk-container-id-2 div.sk-label-container {text-align: center;}#sk-container-id-2 div.sk-container {/* jupyter's `normalize.less` sets `[hidden] { display: none; }` but bootstrap.min.css set `[hidden] { display: none !important; }` so we also need the `!important` here to be able to override the default hidden behavior on the sphinx rendered scikit-learn.org. See: https://github.com/scikit-learn/scikit-learn/issues/21755 */display: inline-block !important;position: relative;}#sk-container-id-2 div.sk-text-repr-fallback {display: none;}</style><div id=\"sk-container-id-2\" class=\"sk-top-container\"><div class=\"sk-text-repr-fallback\"><pre>DummyClassifier(strategy=&#x27;most_frequent&#x27;)</pre><b>In a Jupyter environment, please rerun this cell to show the HTML representation or trust the notebook. <br />On GitHub, the HTML representation is unable to render, please try loading this page with nbviewer.org.</b></div><div class=\"sk-container\" hidden><div class=\"sk-item\"><div class=\"sk-estimator sk-toggleable\"><input class=\"sk-toggleable__control sk-hidden--visually\" id=\"sk-estimator-id-2\" type=\"checkbox\" checked><label for=\"sk-estimator-id-2\" class=\"sk-toggleable__label sk-toggleable__label-arrow\">DummyClassifier</label><div class=\"sk-toggleable__content\"><pre>DummyClassifier(strategy=&#x27;most_frequent&#x27;)</pre></div></div></div></div></div>"
      ],
      "text/plain": [
       "DummyClassifier(strategy='most_frequent')"
      ]
     },
     "execution_count": 28,
     "metadata": {},
     "output_type": "execute_result"
    }
   ],
   "source": [
    "from sklearn.dummy import DummyClassifier\n",
    "\n",
    "clf = DummyClassifier(strategy='most_frequent')\n",
    "clf.fit(X_train_tf,Y_train)"
   ]
  },
  {
   "cell_type": "code",
   "execution_count": 29,
   "metadata": {},
   "outputs": [
    {
     "name": "stdout",
     "output_type": "stream",
     "text": [
      "Accuracy: 0.8768844221105527\n"
     ]
    }
   ],
   "source": [
    "Y_pred_baseline = clf.predict(X_test_tf)\n",
    "print('Accuracy:', accuracy_score(Y_test,Y_pred_baseline))"
   ]
  },
  {
   "cell_type": "code",
   "execution_count": 30,
   "metadata": {},
   "outputs": [
    {
     "data": {
      "text/plain": [
       "array([[   5,    0,   45,    0,    0],\n",
       "       [   0,    2,  130,    3,    0],\n",
       "       [   2,    6, 1736,    1,    0],\n",
       "       [   0,    2,   42,    5,    0],\n",
       "       [   0,    0,   11,    0,    0]], dtype=int64)"
      ]
     },
     "execution_count": 30,
     "metadata": {},
     "output_type": "execute_result"
    }
   ],
   "source": [
    "from sklearn.metrics import confusion_matrix,plot_confusion_matrix,classification_report\n",
    "import matplotlib.pyplot as plt\n",
    "confusion_matrix(Y_test,Y_pred)"
   ]
  },
  {
   "cell_type": "code",
   "execution_count": 31,
   "metadata": {},
   "outputs": [
    {
     "name": "stderr",
     "output_type": "stream",
     "text": [
      "C:\\Users\\Akash Guje\\anaconda3\\lib\\site-packages\\sklearn\\utils\\deprecation.py:87: FutureWarning: Function plot_confusion_matrix is deprecated; Function `plot_confusion_matrix` is deprecated in 1.0 and will be removed in 1.2. Use one of the class methods: ConfusionMatrixDisplay.from_predictions or ConfusionMatrixDisplay.from_estimator.\n",
      "  warnings.warn(msg, category=FutureWarning)\n"
     ]
    },
    {
     "data": {
      "image/png": "[encoded data removed]",
      "text/plain": [
       "<Figure size 432x288 with 2 Axes>"
      ]
     },
     "metadata": {
      "needs_background": "light"
     },
     "output_type": "display_data"
    }
   ],
   "source": [
    "plot_confusion_matrix(model1,X_test_tf,Y_test,values_format='d',cmap=plt.cm.Blues)\n",
    "plt.show()"
   ]
  },
  {
   "cell_type": "code",
   "execution_count": 32,
   "metadata": {},
   "outputs": [
    {
     "name": "stdout",
     "output_type": "stream",
     "text": [
      "P3 Precision :  0.8790199081163859\n"
     ]
    }
   ],
   "source": [
    "#Precision for p3 values is correctly predicted p3 values divided by all predicted p3 values\n",
    "\n",
    "p3_precison = 1722/(48+131+1722+47+11)\n",
    "print(\"P3 Precision : \", p3_precison)"
   ]
  },
  {
   "cell_type": "code",
   "execution_count": 33,
   "metadata": {},
   "outputs": [
    {
     "name": "stdout",
     "output_type": "stream",
     "text": [
      "P3 Recall :  0.9907940161104718\n"
     ]
    }
   ],
   "source": [
    "# Recall for p3 values is correctly predicted p3 values divided by actual p3 values\n",
    "\n",
    "p3_recall = 1722/(5+7+1722+4+0)\n",
    "print(\"P3 Recall : \", p3_recall)"
   ]
  },
  {
   "cell_type": "code",
   "execution_count": 34,
   "metadata": {},
   "outputs": [
    {
     "name": "stdout",
     "output_type": "stream",
     "text": [
      "              precision    recall  f1-score   support\n",
      "\n",
      "          P1       0.71      0.10      0.18        50\n",
      "          P2       0.20      0.01      0.03       135\n",
      "          P3       0.88      0.99      0.94      1745\n",
      "          P4       0.56      0.10      0.17        49\n",
      "          P5       0.00      0.00      0.00        11\n",
      "\n",
      "    accuracy                           0.88      1990\n",
      "   macro avg       0.47      0.24      0.26      1990\n",
      "weighted avg       0.82      0.88      0.83      1990\n",
      "\n"
     ]
    },
    {
     "name": "stderr",
     "output_type": "stream",
     "text": [
      "C:\\Users\\Akash Guje\\anaconda3\\lib\\site-packages\\sklearn\\metrics\\_classification.py:1327: UndefinedMetricWarning: Precision and F-score are ill-defined and being set to 0.0 in labels with no predicted samples. Use `zero_division` parameter to control this behavior.\n",
      "  _warn_prf(average, modifier, msg_start, len(result))\n",
      "C:\\Users\\Akash Guje\\anaconda3\\lib\\site-packages\\sklearn\\metrics\\_classification.py:1327: UndefinedMetricWarning: Precision and F-score are ill-defined and being set to 0.0 in labels with no predicted samples. Use `zero_division` parameter to control this behavior.\n",
      "  _warn_prf(average, modifier, msg_start, len(result))\n",
      "C:\\Users\\Akash Guje\\anaconda3\\lib\\site-packages\\sklearn\\metrics\\_classification.py:1327: UndefinedMetricWarning: Precision and F-score are ill-defined and being set to 0.0 in labels with no predicted samples. Use `zero_division` parameter to control this behavior.\n",
      "  _warn_prf(average, modifier, msg_start, len(result))\n"
     ]
    }
   ],
   "source": [
    "print(classification_report(Y_test,Y_pred))"
   ]
  },
  {
   "cell_type": "code",
   "execution_count": 35,
   "metadata": {},
   "outputs": [
    {
     "data": {
      "text/plain": [
       "P3    8725\n",
       "P2    674 \n",
       "P1    248 \n",
       "P4    246 \n",
       "P5    56  \n",
       "Name: Priority, dtype: int64"
      ]
     },
     "execution_count": 35,
     "metadata": {},
     "output_type": "execute_result"
    }
   ],
   "source": [
    "df_main['Priority'].value_counts()"
   ]
  },
  {
   "cell_type": "code",
   "execution_count": 36,
   "metadata": {},
   "outputs": [],
   "source": [
    "# OUR model is experience class imbalance as it has more records with P3 Category.\n",
    "\n",
    "df_sampleP3 = df_main[df_main['Priority'] == 'P3'].sample(n=1000)"
   ]
  },
  {
   "cell_type": "code",
   "execution_count": 37,
   "metadata": {},
   "outputs": [],
   "source": [
    "df_sampleRest = df_main[df_main['Priority'] != 'P3']"
   ]
  },
  {
   "cell_type": "code",
   "execution_count": 38,
   "metadata": {},
   "outputs": [],
   "source": [
    "df_balanced = pd.concat([df_sampleRest,df_sampleP3])"
   ]
  },
  {
   "cell_type": "code",
   "execution_count": 39,
   "metadata": {},
   "outputs": [
    {
     "data": {
      "text/plain": [
       "P3    1000\n",
       "P2    674 \n",
       "P1    248 \n",
       "P4    246 \n",
       "P5    56  \n",
       "Name: Priority, dtype: int64"
      ]
     },
     "execution_count": 39,
     "metadata": {},
     "output_type": "execute_result"
    }
   ],
   "source": [
    "df_balanced['Priority'].value_counts()"
   ]
  },
  {
   "cell_type": "code",
   "execution_count": 40,
   "metadata": {},
   "outputs": [
    {
     "data": {
      "text/plain": [
       "(2224, 2)"
      ]
     },
     "execution_count": 40,
     "metadata": {},
     "output_type": "execute_result"
    }
   ],
   "source": [
    "df_balanced.shape"
   ]
  },
  {
   "cell_type": "code",
   "execution_count": 41,
   "metadata": {},
   "outputs": [
    {
     "data": {
      "text/html": [
       "<div>\n",
       "<style scoped>\n",
       "    .dataframe tbody tr th:only-of-type {\n",
       "        vertical-align: middle;\n",
       "    }\n",
       "\n",
       "    .dataframe tbody tr th {\n",
       "        vertical-align: top;\n",
       "    }\n",
       "\n",
       "    .dataframe thead th {\n",
       "        text-align: right;\n",
       "    }\n",
       "</style>\n",
       "<table border=\"1\" class=\"dataframe\">\n",
       "  <thead>\n",
       "    <tr style=\"text-align: right;\">\n",
       "      <th></th>\n",
       "      <th>Priority</th>\n",
       "      <th>Text</th>\n",
       "    </tr>\n",
       "  </thead>\n",
       "  <tbody>\n",
       "    <tr>\n",
       "      <th>4461</th>\n",
       "      <td>P1</td>\n",
       "      <td>new TestCase not always initialized correctly It works for CUs but not for classes; Test Case: select class Test in the Packages view and create an new TestCase; ==&gt; only superclass field is initialized</td>\n",
       "    </tr>\n",
       "    <tr>\n",
       "      <th>38584</th>\n",
       "      <td>P2</td>\n",
       "      <td>Should not redraw when caret moved in same element I20080806-1800; ; Even after bug 233510; the breadcrumb redraws too often: E.g. after the caret is moved in the same element; the whole breadcrumb is redrawn (post selection).; ; The breadcrumb should only update; a) on element change (reuse element change listener from Package Explorer; Outline; ...); b) on post selection in the editor when the enclosing element does not match the previous enclosing element</td>\n",
       "    </tr>\n",
       "    <tr>\n",
       "      <th>4443</th>\n",
       "      <td>P1</td>\n",
       "      <td>OpenExternalJavadoc action should not call findElement on JAR This causes an exception:; Java Model Exception: Java Model Status ; at org.eclipse.jdt.internal.core.JavaProject.findElement(JavaProject.java:435); at; org.eclipse.jdt.internal.ui.actions.OpenExternalJavadocAction.run(OpenExternalJavadocAction.java:102); at; org.eclipse.ui.texteditor.RetargetTextEditorAction.run(RetargetTextEditorAction.java:103); at org.eclipse.jface.action.Action.runWithEvent(Action.java:473); at; org.eclipse.jface.action.ActionContributionItem.handleWidgetSelection(ActionContributionItem.java:407); at; org.eclipse.jface.action.ActionContributionItem.handleWidgetEvent(ActionContributionItem.java(Compiled; Code)); at; org.eclipse.jface.action.ActionContributionItem$ActionListener.handleEvent(ActionContributionItem.java(Compiled; Code)); at; org.eclipse.jface.action.ActionContributionItem$ActionListener.handleEvent(ActionContributionItem.java(Compiled; Code)); at org.eclipse.swt.widgets.EventTable.sendEvent(EventTable.java(Compiled Code)); at org.eclipse.swt.widgets.Widget.notifyListeners(Widget.java(Compiled Code)); at org.eclipse.swt.widgets.Display.runDeferredEvents(Display.java(Compiled Code)); at org.eclipse.swt.widgets.Display.readAndDispatch(Display.java(Compiled Code)); at org.eclipse.ui.internal.Workbench.runEventLoop(Workbench.java(Compiled Code)); at org.eclipse.ui.internal.Workbench.run(Workbench.java:698); at org.eclipse.core.internal.boot.InternalBootLoader.run(InternalBootLoader.java:777); at org.eclipse.core.boot.BootLoader.run(BootLoader.java:319); at java.lang.reflect.Method.invoke(Native Method); at org.eclipse.core.launcher.Main.basicRun(Main.java:196); at org.eclipse.core.launcher.Main.run(Main.java:555); at org.eclipse.core.launcher.UIMain.main(UIMain.java:52); 4 org.eclipse.jdt.core 979 Invalid path: C:/Java/IBM1.3/jre/lib/rt.jar.</td>\n",
       "    </tr>\n",
       "    <tr>\n",
       "      <th>22123</th>\n",
       "      <td>P4</td>\n",
       "      <td>Displaying XML string variable with mouseover popup strips XML tags In the debugger a string variable contains a XML string. When I mouse over ; the pop up displays the content of the inner most tag. To display the entire ; string I have to inspect the variable. This is not what I would expect and we ; spent some time trying to figure out why the xml tags where missing when they ; really werent.</td>\n",
       "    </tr>\n",
       "    <tr>\n",
       "      <th>3788</th>\n",
       "      <td>P2</td>\n",
       "      <td>Problems with StructuredSelectionProvider.createFrom(ISelectionProvider) Build 20020224; ; StructuredSelectionProvider.createFrom(ISelectionProvider) does not work if the; provider is an editor.; This is because; a)line 132 reads:; if (result instanceof ITextSelection fProvider instanceof IEditorPart); ==&gt; tests if the provider is an IEditorPart; b) The editor part isnt a selection provider; c) the selection provider of an editor is the source viewer; ==&gt; no code resolve will be done and the structured selection is empty</td>\n",
       "    </tr>\n",
       "  </tbody>\n",
       "</table>\n",
       "</div>"
      ],
      "text/plain": [
       "      Priority  \\\n",
       "4461   P1        \n",
       "38584  P2        \n",
       "4443   P1        \n",
       "22123  P4        \n",
       "3788   P2        \n",
       "\n",
       "                                                                                                                                                                                                                                                                                                                                                                                                                                                                                                                                                                                                                                                                                                                                                                                                                                                                                                                                                                                                                                                                                                                                                                                                                                                                                                                                                                                                                                                                                                                                                                                                                                                                                                                                                                                                                                                                                                                                          Text  \n",
       "4461   new TestCase not always initialized correctly It works for CUs but not for classes; Test Case: select class Test in the Packages view and create an new TestCase; ==> only superclass field is initialized                                                                                                                                                                                                                                                                                                                                                                                                                                                                                                                                                                                                                                                                                                                                                                                                                                                                                                                                                                                                                                                                                                                                                                                                                                                                                                                                                                                                                                                                                                                                                                                                                                                                                                                               \n",
       "38584  Should not redraw when caret moved in same element I20080806-1800; ; Even after bug 233510; the breadcrumb redraws too often: E.g. after the caret is moved in the same element; the whole breadcrumb is redrawn (post selection).; ; The breadcrumb should only update; a) on element change (reuse element change listener from Package Explorer; Outline; ...); b) on post selection in the editor when the enclosing element does not match the previous enclosing element                                                                                                                                                                                                                                                                                                                                                                                                                                                                                                                                                                                                                                                                                                                                                                                                                                                                                                                                                                                                                                                                                                                                                                                                                                                                                                                                                                                                                                                           \n",
       "4443   OpenExternalJavadoc action should not call findElement on JAR This causes an exception:; Java Model Exception: Java Model Status ; at org.eclipse.jdt.internal.core.JavaProject.findElement(JavaProject.java:435); at; org.eclipse.jdt.internal.ui.actions.OpenExternalJavadocAction.run(OpenExternalJavadocAction.java:102); at; org.eclipse.ui.texteditor.RetargetTextEditorAction.run(RetargetTextEditorAction.java:103); at org.eclipse.jface.action.Action.runWithEvent(Action.java:473); at; org.eclipse.jface.action.ActionContributionItem.handleWidgetSelection(ActionContributionItem.java:407); at; org.eclipse.jface.action.ActionContributionItem.handleWidgetEvent(ActionContributionItem.java(Compiled; Code)); at; org.eclipse.jface.action.ActionContributionItem$ActionListener.handleEvent(ActionContributionItem.java(Compiled; Code)); at; org.eclipse.jface.action.ActionContributionItem$ActionListener.handleEvent(ActionContributionItem.java(Compiled; Code)); at org.eclipse.swt.widgets.EventTable.sendEvent(EventTable.java(Compiled Code)); at org.eclipse.swt.widgets.Widget.notifyListeners(Widget.java(Compiled Code)); at org.eclipse.swt.widgets.Display.runDeferredEvents(Display.java(Compiled Code)); at org.eclipse.swt.widgets.Display.readAndDispatch(Display.java(Compiled Code)); at org.eclipse.ui.internal.Workbench.runEventLoop(Workbench.java(Compiled Code)); at org.eclipse.ui.internal.Workbench.run(Workbench.java:698); at org.eclipse.core.internal.boot.InternalBootLoader.run(InternalBootLoader.java:777); at org.eclipse.core.boot.BootLoader.run(BootLoader.java:319); at java.lang.reflect.Method.invoke(Native Method); at org.eclipse.core.launcher.Main.basicRun(Main.java:196); at org.eclipse.core.launcher.Main.run(Main.java:555); at org.eclipse.core.launcher.UIMain.main(UIMain.java:52); 4 org.eclipse.jdt.core 979 Invalid path: C:/Java/IBM1.3/jre/lib/rt.jar.  \n",
       "22123  Displaying XML string variable with mouseover popup strips XML tags In the debugger a string variable contains a XML string. When I mouse over ; the pop up displays the content of the inner most tag. To display the entire ; string I have to inspect the variable. This is not what I would expect and we ; spent some time trying to figure out why the xml tags where missing when they ; really werent.                                                                                                                                                                                                                                                                                                                                                                                                                                                                                                                                                                                                                                                                                                                                                                                                                                                                                                                                                                                                                                                                                                                                                                                                                                                                                                                                                                                                                                                                                                                           \n",
       "3788   Problems with StructuredSelectionProvider.createFrom(ISelectionProvider) Build 20020224; ; StructuredSelectionProvider.createFrom(ISelectionProvider) does not work if the; provider is an editor.; This is because; a)line 132 reads:; if (result instanceof ITextSelection fProvider instanceof IEditorPart); ==> tests if the provider is an IEditorPart; b) The editor part isnt a selection provider; c) the selection provider of an editor is the source viewer; ==> no code resolve will be done and the structured selection is empty                                                                                                                                                                                                                                                                                                                                                                                                                                                                                                                                                                                                                                                                                                                                                                                                                                                                                                                                                                                                                                                                                                                                                                                                                                                                                                                                                                                           "
      ]
     },
     "execution_count": 41,
     "metadata": {},
     "output_type": "execute_result"
    }
   ],
   "source": [
    "df_balanced.head()"
   ]
  },
  {
   "cell_type": "code",
   "execution_count": 42,
   "metadata": {},
   "outputs": [
    {
     "data": {
      "text/plain": [
       "Priority    0\n",
       "Text        0\n",
       "dtype: int64"
      ]
     },
     "execution_count": 42,
     "metadata": {},
     "output_type": "execute_result"
    }
   ],
   "source": [
    "df_balanced.isnull().sum()"
   ]
  },
  {
   "cell_type": "code",
   "execution_count": 43,
   "metadata": {},
   "outputs": [],
   "source": [
    "df_balanced['Text'] = df_balanced['Text'].apply(clean)"
   ]
  },
  {
   "cell_type": "code",
   "execution_count": 44,
   "metadata": {},
   "outputs": [],
   "source": [
    "X_train,X_test,Y_train,Y_test = train_test_split(df_balanced['Text'],df_balanced['Priority'],test_size=0.2,\n",
    "                                                random_state=42,stratify=df_balanced['Priority'])"
   ]
  },
  {
   "cell_type": "code",
   "execution_count": 45,
   "metadata": {},
   "outputs": [
    {
     "name": "stdout",
     "output_type": "stream",
     "text": [
      "(1779,)\n",
      "(445,)\n",
      "(1779,)\n",
      "(445,)\n"
     ]
    }
   ],
   "source": [
    "print(X_train.shape)\n",
    "print(X_test.shape)\n",
    "print(Y_train.shape)\n",
    "print(Y_test.shape)"
   ]
  },
  {
   "cell_type": "code",
   "execution_count": 46,
   "metadata": {},
   "outputs": [],
   "source": [
    "tfidf = TfidfVectorizer(min_df = 10, ngram_range=(1,2), stop_words='english')\n",
    "X_train_tf = tfidf.fit_transform(X_train)"
   ]
  },
  {
   "cell_type": "code",
   "execution_count": 47,
   "metadata": {},
   "outputs": [
    {
     "data": {
      "text/html": [
       "<style>#sk-container-id-3 {color: black;background-color: white;}#sk-container-id-3 pre{padding: 0;}#sk-container-id-3 div.sk-toggleable {background-color: white;}#sk-container-id-3 label.sk-toggleable__label {cursor: pointer;display: block;width: 100%;margin-bottom: 0;padding: 0.3em;box-sizing: border-box;text-align: center;}#sk-container-id-3 label.sk-toggleable__label-arrow:before {content: \"▸\";float: left;margin-right: 0.25em;color: #696969;}#sk-container-id-3 label.sk-toggleable__label-arrow:hover:before {color: black;}#sk-container-id-3 div.sk-estimator:hover label.sk-toggleable__label-arrow:before {color: black;}#sk-container-id-3 div.sk-toggleable__content {max-height: 0;max-width: 0;overflow: hidden;text-align: left;background-color: #f0f8ff;}#sk-container-id-3 div.sk-toggleable__content pre {margin: 0.2em;color: black;border-radius: 0.25em;background-color: #f0f8ff;}#sk-container-id-3 input.sk-toggleable__control:checked~div.sk-toggleable__content {max-height: 200px;max-width: 100%;overflow: auto;}#sk-container-id-3 input.sk-toggleable__control:checked~label.sk-toggleable__label-arrow:before {content: \"▾\";}#sk-container-id-3 div.sk-estimator input.sk-toggleable__control:checked~label.sk-toggleable__label {background-color: #d4ebff;}#sk-container-id-3 div.sk-label input.sk-toggleable__control:checked~label.sk-toggleable__label {background-color: #d4ebff;}#sk-container-id-3 input.sk-hidden--visually {border: 0;clip: rect(1px 1px 1px 1px);clip: rect(1px, 1px, 1px, 1px);height: 1px;margin: -1px;overflow: hidden;padding: 0;position: absolute;width: 1px;}#sk-container-id-3 div.sk-estimator {font-family: monospace;background-color: #f0f8ff;border: 1px dotted black;border-radius: 0.25em;box-sizing: border-box;margin-bottom: 0.5em;}#sk-container-id-3 div.sk-estimator:hover {background-color: #d4ebff;}#sk-container-id-3 div.sk-parallel-item::after {content: \"\";width: 100%;border-bottom: 1px solid gray;flex-grow: 1;}#sk-container-id-3 div.sk-label:hover label.sk-toggleable__label {background-color: #d4ebff;}#sk-container-id-3 div.sk-serial::before {content: \"\";position: absolute;border-left: 1px solid gray;box-sizing: border-box;top: 0;bottom: 0;left: 50%;z-index: 0;}#sk-container-id-3 div.sk-serial {display: flex;flex-direction: column;align-items: center;background-color: white;padding-right: 0.2em;padding-left: 0.2em;position: relative;}#sk-container-id-3 div.sk-item {position: relative;z-index: 1;}#sk-container-id-3 div.sk-parallel {display: flex;align-items: stretch;justify-content: center;background-color: white;position: relative;}#sk-container-id-3 div.sk-item::before, #sk-container-id-3 div.sk-parallel-item::before {content: \"\";position: absolute;border-left: 1px solid gray;box-sizing: border-box;top: 0;bottom: 0;left: 50%;z-index: -1;}#sk-container-id-3 div.sk-parallel-item {display: flex;flex-direction: column;z-index: 1;position: relative;background-color: white;}#sk-container-id-3 div.sk-parallel-item:first-child::after {align-self: flex-end;width: 50%;}#sk-container-id-3 div.sk-parallel-item:last-child::after {align-self: flex-start;width: 50%;}#sk-container-id-3 div.sk-parallel-item:only-child::after {width: 0;}#sk-container-id-3 div.sk-dashed-wrapped {border: 1px dashed gray;margin: 0 0.4em 0.5em 0.4em;box-sizing: border-box;padding-bottom: 0.4em;background-color: white;}#sk-container-id-3 div.sk-label label {font-family: monospace;font-weight: bold;display: inline-block;line-height: 1.2em;}#sk-container-id-3 div.sk-label-container {text-align: center;}#sk-container-id-3 div.sk-container {/* jupyter's `normalize.less` sets `[hidden] { display: none; }` but bootstrap.min.css set `[hidden] { display: none !important; }` so we also need the `!important` here to be able to override the default hidden behavior on the sphinx rendered scikit-learn.org. See: https://github.com/scikit-learn/scikit-learn/issues/21755 */display: inline-block !important;position: relative;}#sk-container-id-3 div.sk-text-repr-fallback {display: none;}</style><div id=\"sk-container-id-3\" class=\"sk-top-container\"><div class=\"sk-text-repr-fallback\"><pre>LinearSVC(random_state=0, tol=1e-05)</pre><b>In a Jupyter environment, please rerun this cell to show the HTML representation or trust the notebook. <br />On GitHub, the HTML representation is unable to render, please try loading this page with nbviewer.org.</b></div><div class=\"sk-container\" hidden><div class=\"sk-item\"><div class=\"sk-estimator sk-toggleable\"><input class=\"sk-toggleable__control sk-hidden--visually\" id=\"sk-estimator-id-3\" type=\"checkbox\" checked><label for=\"sk-estimator-id-3\" class=\"sk-toggleable__label sk-toggleable__label-arrow\">LinearSVC</label><div class=\"sk-toggleable__content\"><pre>LinearSVC(random_state=0, tol=1e-05)</pre></div></div></div></div></div>"
      ],
      "text/plain": [
       "LinearSVC(random_state=0, tol=1e-05)"
      ]
     },
     "execution_count": 47,
     "metadata": {},
     "output_type": "execute_result"
    }
   ],
   "source": [
    "model1 = LinearSVC(random_state=0,tol=1e-5)\n",
    "model1.fit(X_train_tf, Y_train)"
   ]
  },
  {
   "cell_type": "code",
   "execution_count": 48,
   "metadata": {},
   "outputs": [],
   "source": [
    "X_test_tf = tfidf.transform(X_test)"
   ]
  },
  {
   "cell_type": "code",
   "execution_count": 49,
   "metadata": {},
   "outputs": [
    {
     "name": "stdout",
     "output_type": "stream",
     "text": [
      "Accuracy: 0.47415730337078654\n"
     ]
    }
   ],
   "source": [
    "Y_pred = model1.predict(X_test_tf)\n",
    "print('Accuracy:', accuracy_score(Y_test,Y_pred))"
   ]
  },
  {
   "cell_type": "code",
   "execution_count": 50,
   "metadata": {},
   "outputs": [
    {
     "name": "stdout",
     "output_type": "stream",
     "text": [
      "              precision    recall  f1-score   support\n",
      "\n",
      "          P1       0.53      0.42      0.47        50\n",
      "          P2       0.37      0.39      0.38       135\n",
      "          P3       0.53      0.62      0.57       200\n",
      "          P4       0.45      0.27      0.33        49\n",
      "          P5       0.00      0.00      0.00        11\n",
      "\n",
      "    accuracy                           0.47       445\n",
      "   macro avg       0.38      0.34      0.35       445\n",
      "weighted avg       0.46      0.47      0.46       445\n",
      "\n"
     ]
    }
   ],
   "source": [
    "print(classification_report(Y_test,Y_pred))"
   ]
  },
  {
   "cell_type": "code",
   "execution_count": 51,
   "metadata": {},
   "outputs": [
    {
     "data": {
      "text/html": [
       "<style>#sk-container-id-4 {color: black;background-color: white;}#sk-container-id-4 pre{padding: 0;}#sk-container-id-4 div.sk-toggleable {background-color: white;}#sk-container-id-4 label.sk-toggleable__label {cursor: pointer;display: block;width: 100%;margin-bottom: 0;padding: 0.3em;box-sizing: border-box;text-align: center;}#sk-container-id-4 label.sk-toggleable__label-arrow:before {content: \"▸\";float: left;margin-right: 0.25em;color: #696969;}#sk-container-id-4 label.sk-toggleable__label-arrow:hover:before {color: black;}#sk-container-id-4 div.sk-estimator:hover label.sk-toggleable__label-arrow:before {color: black;}#sk-container-id-4 div.sk-toggleable__content {max-height: 0;max-width: 0;overflow: hidden;text-align: left;background-color: #f0f8ff;}#sk-container-id-4 div.sk-toggleable__content pre {margin: 0.2em;color: black;border-radius: 0.25em;background-color: #f0f8ff;}#sk-container-id-4 input.sk-toggleable__control:checked~div.sk-toggleable__content {max-height: 200px;max-width: 100%;overflow: auto;}#sk-container-id-4 input.sk-toggleable__control:checked~label.sk-toggleable__label-arrow:before {content: \"▾\";}#sk-container-id-4 div.sk-estimator input.sk-toggleable__control:checked~label.sk-toggleable__label {background-color: #d4ebff;}#sk-container-id-4 div.sk-label input.sk-toggleable__control:checked~label.sk-toggleable__label {background-color: #d4ebff;}#sk-container-id-4 input.sk-hidden--visually {border: 0;clip: rect(1px 1px 1px 1px);clip: rect(1px, 1px, 1px, 1px);height: 1px;margin: -1px;overflow: hidden;padding: 0;position: absolute;width: 1px;}#sk-container-id-4 div.sk-estimator {font-family: monospace;background-color: #f0f8ff;border: 1px dotted black;border-radius: 0.25em;box-sizing: border-box;margin-bottom: 0.5em;}#sk-container-id-4 div.sk-estimator:hover {background-color: #d4ebff;}#sk-container-id-4 div.sk-parallel-item::after {content: \"\";width: 100%;border-bottom: 1px solid gray;flex-grow: 1;}#sk-container-id-4 div.sk-label:hover label.sk-toggleable__label {background-color: #d4ebff;}#sk-container-id-4 div.sk-serial::before {content: \"\";position: absolute;border-left: 1px solid gray;box-sizing: border-box;top: 0;bottom: 0;left: 50%;z-index: 0;}#sk-container-id-4 div.sk-serial {display: flex;flex-direction: column;align-items: center;background-color: white;padding-right: 0.2em;padding-left: 0.2em;position: relative;}#sk-container-id-4 div.sk-item {position: relative;z-index: 1;}#sk-container-id-4 div.sk-parallel {display: flex;align-items: stretch;justify-content: center;background-color: white;position: relative;}#sk-container-id-4 div.sk-item::before, #sk-container-id-4 div.sk-parallel-item::before {content: \"\";position: absolute;border-left: 1px solid gray;box-sizing: border-box;top: 0;bottom: 0;left: 50%;z-index: -1;}#sk-container-id-4 div.sk-parallel-item {display: flex;flex-direction: column;z-index: 1;position: relative;background-color: white;}#sk-container-id-4 div.sk-parallel-item:first-child::after {align-self: flex-end;width: 50%;}#sk-container-id-4 div.sk-parallel-item:last-child::after {align-self: flex-start;width: 50%;}#sk-container-id-4 div.sk-parallel-item:only-child::after {width: 0;}#sk-container-id-4 div.sk-dashed-wrapped {border: 1px dashed gray;margin: 0 0.4em 0.5em 0.4em;box-sizing: border-box;padding-bottom: 0.4em;background-color: white;}#sk-container-id-4 div.sk-label label {font-family: monospace;font-weight: bold;display: inline-block;line-height: 1.2em;}#sk-container-id-4 div.sk-label-container {text-align: center;}#sk-container-id-4 div.sk-container {/* jupyter's `normalize.less` sets `[hidden] { display: none; }` but bootstrap.min.css set `[hidden] { display: none !important; }` so we also need the `!important` here to be able to override the default hidden behavior on the sphinx rendered scikit-learn.org. See: https://github.com/scikit-learn/scikit-learn/issues/21755 */display: inline-block !important;position: relative;}#sk-container-id-4 div.sk-text-repr-fallback {display: none;}</style><div id=\"sk-container-id-4\" class=\"sk-top-container\"><div class=\"sk-text-repr-fallback\"><pre>DummyClassifier(strategy=&#x27;most_frequent&#x27;)</pre><b>In a Jupyter environment, please rerun this cell to show the HTML representation or trust the notebook. <br />On GitHub, the HTML representation is unable to render, please try loading this page with nbviewer.org.</b></div><div class=\"sk-container\" hidden><div class=\"sk-item\"><div class=\"sk-estimator sk-toggleable\"><input class=\"sk-toggleable__control sk-hidden--visually\" id=\"sk-estimator-id-4\" type=\"checkbox\" checked><label for=\"sk-estimator-id-4\" class=\"sk-toggleable__label sk-toggleable__label-arrow\">DummyClassifier</label><div class=\"sk-toggleable__content\"><pre>DummyClassifier(strategy=&#x27;most_frequent&#x27;)</pre></div></div></div></div></div>"
      ],
      "text/plain": [
       "DummyClassifier(strategy='most_frequent')"
      ]
     },
     "execution_count": 51,
     "metadata": {},
     "output_type": "execute_result"
    }
   ],
   "source": [
    "clf = DummyClassifier(strategy='most_frequent')\n",
    "clf.fit(X_train_tf,Y_train)"
   ]
  },
  {
   "cell_type": "code",
   "execution_count": 52,
   "metadata": {},
   "outputs": [
    {
     "name": "stdout",
     "output_type": "stream",
     "text": [
      "Accuracy: 0.449438202247191\n"
     ]
    }
   ],
   "source": [
    "Y_pred_baseline = clf.predict(X_test_tf)\n",
    "print('Accuracy:', accuracy_score(Y_test,Y_pred_baseline))"
   ]
  },
  {
   "cell_type": "code",
   "execution_count": 53,
   "metadata": {},
   "outputs": [],
   "source": [
    "tfidf = TfidfVectorizer(min_df = 10, ngram_range=(1,2), stop_words='english')\n",
    "df_tf = tfidf.fit_transform(df_balanced['Text']).toarray()"
   ]
  },
  {
   "cell_type": "code",
   "execution_count": 58,
   "metadata": {},
   "outputs": [],
   "source": [
    "from sklearn.model_selection import cross_val_score,GridSearchCV\n",
    "scores = cross_val_score(estimator=model1,X=df_tf,y=df_balanced['Priority'],cv=5)"
   ]
  },
  {
   "cell_type": "code",
   "execution_count": 59,
   "metadata": {},
   "outputs": [
    {
     "name": "stdout",
     "output_type": "stream",
     "text": [
      "Validation scores for each iteration: [0.50337079 0.48314607 0.50337079 0.51910112 0.49774775]\n",
      "Mean: 0.5013473023585384\n",
      "std: 0.011555335491723794\n"
     ]
    }
   ],
   "source": [
    "print(\"Validation scores for each iteration:\",scores)\n",
    "print(\"Mean:\",scores.mean())\n",
    "print(\"std:\",scores.std())"
   ]
  },
  {
   "cell_type": "markdown",
   "metadata": {},
   "source": [
    "# GridSearchCV"
   ]
  },
  {
   "cell_type": "code",
   "execution_count": 83,
   "metadata": {},
   "outputs": [],
   "source": [
    "from sklearn.pipeline import Pipeline\n",
    "training_pipeline = Pipeline(\n",
    "    steps=[('tfidf', TfidfVectorizer(stop_words='english')),\n",
    "            ('model', LinearSVC(random_state=42,tol = 1e-5))])"
   ]
  },
  {
   "cell_type": "code",
   "execution_count": 84,
   "metadata": {},
   "outputs": [],
   "source": [
    "grid_param = [{\n",
    "    'tfidf__min_df': [5,10],\n",
    "    'tfidf__ngram_range': [(1,3),(1,6)],\n",
    "    'model__penalty': ['12'],\n",
    "    'model__loss': ['hinge'],\n",
    "    'model__max_iter': [10000]\n",
    "    },{\n",
    "    'tfidf__min_df': [5,10],\n",
    "    'tfidf__ngram_range': [(1,3),(1,6)],\n",
    "    'model__C': [1,10],\n",
    "    'model__tol':[1e-2, 1e-3]\n",
    "}]"
   ]
  },
  {
   "cell_type": "code",
   "execution_count": 85,
   "metadata": {},
   "outputs": [],
   "source": [
    "gridSearchProcessor = GridSearchCV(estimator=training_pipeline,param_grid=grid_param,cv=5)"
   ]
  },
  {
   "cell_type": "code",
   "execution_count": 86,
   "metadata": {},
   "outputs": [
    {
     "name": "stderr",
     "output_type": "stream",
     "text": [
      "C:\\Users\\Akash Guje\\anaconda3\\lib\\site-packages\\sklearn\\model_selection\\_validation.py:378: FitFailedWarning: \n",
      "20 fits failed out of a total of 100.\n",
      "The score on these train-test partitions for these parameters will be set to nan.\n",
      "If these failures are not expected, you can try to debug them by setting error_score='raise'.\n",
      "\n",
      "Below are more details about the failures:\n",
      "--------------------------------------------------------------------------------\n",
      "20 fits failed with the following error:\n",
      "Traceback (most recent call last):\n",
      "  File \"C:\\Users\\Akash Guje\\anaconda3\\lib\\site-packages\\sklearn\\model_selection\\_validation.py\", line 686, in _fit_and_score\n",
      "    estimator.fit(X_train, y_train, **fit_params)\n",
      "  File \"C:\\Users\\Akash Guje\\anaconda3\\lib\\site-packages\\sklearn\\pipeline.py\", line 382, in fit\n",
      "    self._final_estimator.fit(Xt, y, **fit_params_last_step)\n",
      "  File \"C:\\Users\\Akash Guje\\anaconda3\\lib\\site-packages\\sklearn\\svm\\_classes.py\", line 257, in fit\n",
      "    self.coef_, self.intercept_, n_iter_ = _fit_liblinear(\n",
      "  File \"C:\\Users\\Akash Guje\\anaconda3\\lib\\site-packages\\sklearn\\svm\\_base.py\", line 1204, in _fit_liblinear\n",
      "    solver_type = _get_liblinear_solver_type(multi_class, penalty, loss, dual)\n",
      "  File \"C:\\Users\\Akash Guje\\anaconda3\\lib\\site-packages\\sklearn\\svm\\_base.py\", line 1043, in _get_liblinear_solver_type\n",
      "    raise ValueError(\n",
      "ValueError: Unsupported set of arguments: The combination of penalty='12' and loss='hinge' is not supported, Parameters: penalty='12', loss='hinge', dual=True\n",
      "\n",
      "  warnings.warn(some_fits_failed_message, FitFailedWarning)\n",
      "C:\\Users\\Akash Guje\\anaconda3\\lib\\site-packages\\sklearn\\model_selection\\_search.py:953: UserWarning: One or more of the test scores are non-finite: [       nan        nan        nan        nan 0.49459864 0.49729932\n",
      " 0.51124203 0.51303877 0.49504808 0.49684887 0.51079259 0.51303877\n",
      " 0.45548841 0.46133414 0.4694382  0.47033809 0.45503897 0.46133414\n",
      " 0.4694382  0.47033809]\n",
      "  warnings.warn(\n"
     ]
    },
    {
     "data": {
      "text/html": [
       "<style>#sk-container-id-5 {color: black;background-color: white;}#sk-container-id-5 pre{padding: 0;}#sk-container-id-5 div.sk-toggleable {background-color: white;}#sk-container-id-5 label.sk-toggleable__label {cursor: pointer;display: block;width: 100%;margin-bottom: 0;padding: 0.3em;box-sizing: border-box;text-align: center;}#sk-container-id-5 label.sk-toggleable__label-arrow:before {content: \"▸\";float: left;margin-right: 0.25em;color: #696969;}#sk-container-id-5 label.sk-toggleable__label-arrow:hover:before {color: black;}#sk-container-id-5 div.sk-estimator:hover label.sk-toggleable__label-arrow:before {color: black;}#sk-container-id-5 div.sk-toggleable__content {max-height: 0;max-width: 0;overflow: hidden;text-align: left;background-color: #f0f8ff;}#sk-container-id-5 div.sk-toggleable__content pre {margin: 0.2em;color: black;border-radius: 0.25em;background-color: #f0f8ff;}#sk-container-id-5 input.sk-toggleable__control:checked~div.sk-toggleable__content {max-height: 200px;max-width: 100%;overflow: auto;}#sk-container-id-5 input.sk-toggleable__control:checked~label.sk-toggleable__label-arrow:before {content: \"▾\";}#sk-container-id-5 div.sk-estimator input.sk-toggleable__control:checked~label.sk-toggleable__label {background-color: #d4ebff;}#sk-container-id-5 div.sk-label input.sk-toggleable__control:checked~label.sk-toggleable__label {background-color: #d4ebff;}#sk-container-id-5 input.sk-hidden--visually {border: 0;clip: rect(1px 1px 1px 1px);clip: rect(1px, 1px, 1px, 1px);height: 1px;margin: -1px;overflow: hidden;padding: 0;position: absolute;width: 1px;}#sk-container-id-5 div.sk-estimator {font-family: monospace;background-color: #f0f8ff;border: 1px dotted black;border-radius: 0.25em;box-sizing: border-box;margin-bottom: 0.5em;}#sk-container-id-5 div.sk-estimator:hover {background-color: #d4ebff;}#sk-container-id-5 div.sk-parallel-item::after {content: \"\";width: 100%;border-bottom: 1px solid gray;flex-grow: 1;}#sk-container-id-5 div.sk-label:hover label.sk-toggleable__label {background-color: #d4ebff;}#sk-container-id-5 div.sk-serial::before {content: \"\";position: absolute;border-left: 1px solid gray;box-sizing: border-box;top: 0;bottom: 0;left: 50%;z-index: 0;}#sk-container-id-5 div.sk-serial {display: flex;flex-direction: column;align-items: center;background-color: white;padding-right: 0.2em;padding-left: 0.2em;position: relative;}#sk-container-id-5 div.sk-item {position: relative;z-index: 1;}#sk-container-id-5 div.sk-parallel {display: flex;align-items: stretch;justify-content: center;background-color: white;position: relative;}#sk-container-id-5 div.sk-item::before, #sk-container-id-5 div.sk-parallel-item::before {content: \"\";position: absolute;border-left: 1px solid gray;box-sizing: border-box;top: 0;bottom: 0;left: 50%;z-index: -1;}#sk-container-id-5 div.sk-parallel-item {display: flex;flex-direction: column;z-index: 1;position: relative;background-color: white;}#sk-container-id-5 div.sk-parallel-item:first-child::after {align-self: flex-end;width: 50%;}#sk-container-id-5 div.sk-parallel-item:last-child::after {align-self: flex-start;width: 50%;}#sk-container-id-5 div.sk-parallel-item:only-child::after {width: 0;}#sk-container-id-5 div.sk-dashed-wrapped {border: 1px dashed gray;margin: 0 0.4em 0.5em 0.4em;box-sizing: border-box;padding-bottom: 0.4em;background-color: white;}#sk-container-id-5 div.sk-label label {font-family: monospace;font-weight: bold;display: inline-block;line-height: 1.2em;}#sk-container-id-5 div.sk-label-container {text-align: center;}#sk-container-id-5 div.sk-container {/* jupyter's `normalize.less` sets `[hidden] { display: none; }` but bootstrap.min.css set `[hidden] { display: none !important; }` so we also need the `!important` here to be able to override the default hidden behavior on the sphinx rendered scikit-learn.org. See: https://github.com/scikit-learn/scikit-learn/issues/21755 */display: inline-block !important;position: relative;}#sk-container-id-5 div.sk-text-repr-fallback {display: none;}</style><div id=\"sk-container-id-5\" class=\"sk-top-container\"><div class=\"sk-text-repr-fallback\"><pre>GridSearchCV(cv=5,\n",
       "             estimator=Pipeline(steps=[(&#x27;tfidf&#x27;,\n",
       "                                        TfidfVectorizer(stop_words=&#x27;english&#x27;)),\n",
       "                                       (&#x27;model&#x27;,\n",
       "                                        LinearSVC(random_state=42,\n",
       "                                                  tol=1e-05))]),\n",
       "             param_grid=[{&#x27;model__loss&#x27;: [&#x27;hinge&#x27;], &#x27;model__max_iter&#x27;: [10000],\n",
       "                          &#x27;model__penalty&#x27;: [&#x27;12&#x27;], &#x27;tfidf__min_df&#x27;: [5, 10],\n",
       "                          &#x27;tfidf__ngram_range&#x27;: [(1, 3), (1, 6)]},\n",
       "                         {&#x27;model__C&#x27;: [1, 10], &#x27;model__tol&#x27;: [0.01, 0.001],\n",
       "                          &#x27;tfidf__min_df&#x27;: [5, 10],\n",
       "                          &#x27;tfidf__ngram_range&#x27;: [(1, 3), (1, 6)]}])</pre><b>In a Jupyter environment, please rerun this cell to show the HTML representation or trust the notebook. <br />On GitHub, the HTML representation is unable to render, please try loading this page with nbviewer.org.</b></div><div class=\"sk-container\" hidden><div class=\"sk-item sk-dashed-wrapped\"><div class=\"sk-label-container\"><div class=\"sk-label sk-toggleable\"><input class=\"sk-toggleable__control sk-hidden--visually\" id=\"sk-estimator-id-5\" type=\"checkbox\" ><label for=\"sk-estimator-id-5\" class=\"sk-toggleable__label sk-toggleable__label-arrow\">GridSearchCV</label><div class=\"sk-toggleable__content\"><pre>GridSearchCV(cv=5,\n",
       "             estimator=Pipeline(steps=[(&#x27;tfidf&#x27;,\n",
       "                                        TfidfVectorizer(stop_words=&#x27;english&#x27;)),\n",
       "                                       (&#x27;model&#x27;,\n",
       "                                        LinearSVC(random_state=42,\n",
       "                                                  tol=1e-05))]),\n",
       "             param_grid=[{&#x27;model__loss&#x27;: [&#x27;hinge&#x27;], &#x27;model__max_iter&#x27;: [10000],\n",
       "                          &#x27;model__penalty&#x27;: [&#x27;12&#x27;], &#x27;tfidf__min_df&#x27;: [5, 10],\n",
       "                          &#x27;tfidf__ngram_range&#x27;: [(1, 3), (1, 6)]},\n",
       "                         {&#x27;model__C&#x27;: [1, 10], &#x27;model__tol&#x27;: [0.01, 0.001],\n",
       "                          &#x27;tfidf__min_df&#x27;: [5, 10],\n",
       "                          &#x27;tfidf__ngram_range&#x27;: [(1, 3), (1, 6)]}])</pre></div></div></div><div class=\"sk-parallel\"><div class=\"sk-parallel-item\"><div class=\"sk-item\"><div class=\"sk-label-container\"><div class=\"sk-label sk-toggleable\"><input class=\"sk-toggleable__control sk-hidden--visually\" id=\"sk-estimator-id-6\" type=\"checkbox\" ><label for=\"sk-estimator-id-6\" class=\"sk-toggleable__label sk-toggleable__label-arrow\">estimator: Pipeline</label><div class=\"sk-toggleable__content\"><pre>Pipeline(steps=[(&#x27;tfidf&#x27;, TfidfVectorizer(stop_words=&#x27;english&#x27;)),\n",
       "                (&#x27;model&#x27;, LinearSVC(random_state=42, tol=1e-05))])</pre></div></div></div><div class=\"sk-serial\"><div class=\"sk-item\"><div class=\"sk-serial\"><div class=\"sk-item\"><div class=\"sk-estimator sk-toggleable\"><input class=\"sk-toggleable__control sk-hidden--visually\" id=\"sk-estimator-id-7\" type=\"checkbox\" ><label for=\"sk-estimator-id-7\" class=\"sk-toggleable__label sk-toggleable__label-arrow\">TfidfVectorizer</label><div class=\"sk-toggleable__content\"><pre>TfidfVectorizer(stop_words=&#x27;english&#x27;)</pre></div></div></div><div class=\"sk-item\"><div class=\"sk-estimator sk-toggleable\"><input class=\"sk-toggleable__control sk-hidden--visually\" id=\"sk-estimator-id-8\" type=\"checkbox\" ><label for=\"sk-estimator-id-8\" class=\"sk-toggleable__label sk-toggleable__label-arrow\">LinearSVC</label><div class=\"sk-toggleable__content\"><pre>LinearSVC(random_state=42, tol=1e-05)</pre></div></div></div></div></div></div></div></div></div></div></div></div>"
      ],
      "text/plain": [
       "GridSearchCV(cv=5,\n",
       "             estimator=Pipeline(steps=[('tfidf',\n",
       "                                        TfidfVectorizer(stop_words='english')),\n",
       "                                       ('model',\n",
       "                                        LinearSVC(random_state=42,\n",
       "                                                  tol=1e-05))]),\n",
       "             param_grid=[{'model__loss': ['hinge'], 'model__max_iter': [10000],\n",
       "                          'model__penalty': ['12'], 'tfidf__min_df': [5, 10],\n",
       "                          'tfidf__ngram_range': [(1, 3), (1, 6)]},\n",
       "                         {'model__C': [1, 10], 'model__tol': [0.01, 0.001],\n",
       "                          'tfidf__min_df': [5, 10],\n",
       "                          'tfidf__ngram_range': [(1, 3), (1, 6)]}])"
      ]
     },
     "execution_count": 86,
     "metadata": {},
     "output_type": "execute_result"
    }
   ],
   "source": [
    "gridSearchProcessor.fit(df_balanced['Text'],df_balanced['Priority'])"
   ]
  },
  {
   "cell_type": "code",
   "execution_count": 87,
   "metadata": {},
   "outputs": [
    {
     "name": "stdout",
     "output_type": "stream",
     "text": [
      "Best Parameter: {'model__C': 1, 'model__tol': 0.01, 'tfidf__min_df': 10, 'tfidf__ngram_range': (1, 6)}\n"
     ]
    }
   ],
   "source": [
    "best_params = gridSearchProcessor.best_params_\n",
    "print('Best Parameter:',best_params)"
   ]
  },
  {
   "cell_type": "code",
   "execution_count": 88,
   "metadata": {},
   "outputs": [
    {
     "name": "stdout",
     "output_type": "stream",
     "text": [
      "Best Result: 0.5130387691061847\n"
     ]
    }
   ],
   "source": [
    "best_result = gridSearchProcessor.best_score_\n",
    "print('Best Result:',best_result)"
   ]
  },
  {
   "cell_type": "code",
   "execution_count": 89,
   "metadata": {},
   "outputs": [],
   "source": [
    "gridSearchResults = pd.DataFrame(gridSearchProcessor.cv_results_)"
   ]
  },
  {
   "cell_type": "code",
   "execution_count": 90,
   "metadata": {},
   "outputs": [
    {
     "data": {
      "text/html": [
       "<div>\n",
       "<style scoped>\n",
       "    .dataframe tbody tr th:only-of-type {\n",
       "        vertical-align: middle;\n",
       "    }\n",
       "\n",
       "    .dataframe tbody tr th {\n",
       "        vertical-align: top;\n",
       "    }\n",
       "\n",
       "    .dataframe thead th {\n",
       "        text-align: right;\n",
       "    }\n",
       "</style>\n",
       "<table border=\"1\" class=\"dataframe\">\n",
       "  <thead>\n",
       "    <tr style=\"text-align: right;\">\n",
       "      <th></th>\n",
       "      <th>rank_test_score</th>\n",
       "      <th>mean_test_score</th>\n",
       "      <th>params</th>\n",
       "    </tr>\n",
       "  </thead>\n",
       "  <tbody>\n",
       "    <tr>\n",
       "      <th>11</th>\n",
       "      <td>1</td>\n",
       "      <td>0.513039</td>\n",
       "      <td>{'model__C': 1, 'model__tol': 0.001, 'tfidf__min_df': 10, 'tfidf__ngram_range': (1, 6)}</td>\n",
       "    </tr>\n",
       "    <tr>\n",
       "      <th>7</th>\n",
       "      <td>1</td>\n",
       "      <td>0.513039</td>\n",
       "      <td>{'model__C': 1, 'model__tol': 0.01, 'tfidf__min_df': 10, 'tfidf__ngram_range': (1, 6)}</td>\n",
       "    </tr>\n",
       "    <tr>\n",
       "      <th>6</th>\n",
       "      <td>3</td>\n",
       "      <td>0.511242</td>\n",
       "      <td>{'model__C': 1, 'model__tol': 0.01, 'tfidf__min_df': 10, 'tfidf__ngram_range': (1, 3)}</td>\n",
       "    </tr>\n",
       "    <tr>\n",
       "      <th>10</th>\n",
       "      <td>4</td>\n",
       "      <td>0.510793</td>\n",
       "      <td>{'model__C': 1, 'model__tol': 0.001, 'tfidf__min_df': 10, 'tfidf__ngram_range': (1, 3)}</td>\n",
       "    </tr>\n",
       "    <tr>\n",
       "      <th>5</th>\n",
       "      <td>5</td>\n",
       "      <td>0.497299</td>\n",
       "      <td>{'model__C': 1, 'model__tol': 0.01, 'tfidf__min_df': 5, 'tfidf__ngram_range': (1, 6)}</td>\n",
       "    </tr>\n",
       "  </tbody>\n",
       "</table>\n",
       "</div>"
      ],
      "text/plain": [
       "    rank_test_score  mean_test_score  \\\n",
       "11  1                0.513039          \n",
       "7   1                0.513039          \n",
       "6   3                0.511242          \n",
       "10  4                0.510793          \n",
       "5   5                0.497299          \n",
       "\n",
       "                                                                                     params  \n",
       "11  {'model__C': 1, 'model__tol': 0.001, 'tfidf__min_df': 10, 'tfidf__ngram_range': (1, 6)}  \n",
       "7   {'model__C': 1, 'model__tol': 0.01, 'tfidf__min_df': 10, 'tfidf__ngram_range': (1, 6)}   \n",
       "6   {'model__C': 1, 'model__tol': 0.01, 'tfidf__min_df': 10, 'tfidf__ngram_range': (1, 3)}   \n",
       "10  {'model__C': 1, 'model__tol': 0.001, 'tfidf__min_df': 10, 'tfidf__ngram_range': (1, 3)}  \n",
       "5   {'model__C': 1, 'model__tol': 0.01, 'tfidf__min_df': 5, 'tfidf__ngram_range': (1, 6)}    "
      ]
     },
     "execution_count": 90,
     "metadata": {},
     "output_type": "execute_result"
    }
   ],
   "source": [
    "gridSearchResults[['rank_test_score','mean_test_score','params']].sort_values(by=['rank_test_score'])[:5]"
   ]
  },
  {
   "cell_type": "code",
   "execution_count": null,
   "metadata": {},
   "outputs": [],
   "source": []
  }
 ],
 "metadata": {
  "kernelspec": {
   "display_name": "Python 3",
   "language": "python",
   "name": "python3"
  },
  "language_info": {
   "codemirror_mode": {
    "name": "ipython",
    "version": 3
   },
   "file_extension": ".py",
   "mimetype": "text/x-python",
   "name": "python",
   "nbconvert_exporter": "python",
   "pygments_lexer": "ipython3",
   "version": "3.8.3"
  }
 },
 "nbformat": 4,
 "nbformat_minor": 4
}
